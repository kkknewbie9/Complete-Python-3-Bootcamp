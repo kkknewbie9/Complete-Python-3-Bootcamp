{
  "nbformat": 4,
  "nbformat_minor": 0,
  "metadata": {
    "colab": {
      "name": "Day1.ipynb",
      "provenance": [],
      "authorship_tag": "ABX9TyPl3lLFvJja+s6hZVsZZeCr",
      "include_colab_link": true
    },
    "kernelspec": {
      "name": "python3",
      "display_name": "Python 3"
    },
    "language_info": {
      "name": "python"
    }
  },
  "cells": [
    {
      "cell_type": "markdown",
      "metadata": {
        "id": "view-in-github",
        "colab_type": "text"
      },
      "source": [
        "<a href=\"https://colab.research.google.com/github/kkknewbie9/Complete-Python-3-Bootcamp/blob/master/Day1.ipynb\" target=\"_parent\"><img src=\"https://colab.research.google.com/assets/colab-badge.svg\" alt=\"Open In Colab\"/></a>"
      ]
    },
    {
      "cell_type": "code",
      "metadata": {
        "id": "wyRE4VWEYOvU"
      },
      "source": [
        ""
      ],
      "execution_count": null,
      "outputs": []
    },
    {
      "cell_type": "markdown",
      "metadata": {
        "id": "e56oXUf2cMjV"
      },
      "source": [
        "### **Implementing Numpy using python programming**\n"
      ]
    },
    {
      "cell_type": "code",
      "metadata": {
        "colab": {
          "base_uri": "https://localhost:8080/"
        },
        "id": "yqbb0jzAcIwJ",
        "outputId": "5b308ad8-e26f-4121-ff7a-0c9e3ba21855"
      },
      "source": [
        "#importing libraries\n",
        "\n",
        "import numpy as np\n",
        "\n",
        "a = [1,2,3,4]  #list\n",
        "\n",
        "#list to array\n",
        "\n",
        "arr1 = np.array(a)\n",
        "print(arr1)\n",
        "\n",
        "b = [[1,2,3,4],[4,5,6,7]]  #list2\n",
        "arr2 = np.array(b)\n",
        "\n",
        "print(arr2)"
      ],
      "execution_count": 4,
      "outputs": [
        {
          "output_type": "stream",
          "text": [
            "[1 2 3 4]\n",
            "[[1 2 3 4]\n",
            " [4 5 6 7]]\n"
          ],
          "name": "stdout"
        }
      ]
    },
    {
      "cell_type": "code",
      "metadata": {
        "colab": {
          "base_uri": "https://localhost:8080/"
        },
        "id": "Iiap2AShdpNW",
        "outputId": "2e826990-5807-40a4-efe3-f4043e7d4268"
      },
      "source": [
        "#range of variable\n",
        "\n",
        "import sys\n",
        "\n",
        "s = np.arange(10000)\n",
        "\n",
        "print(\"size of each element of numpy array in bytes\", s.itemsize)\n",
        "print(\"size of whole array in bytes\", s.size * s.itemsize)"
      ],
      "execution_count": 24,
      "outputs": [
        {
          "output_type": "stream",
          "text": [
            "size of each element of numpy array in bytes 8\n",
            "size of whole array in bytes 80000\n"
          ],
          "name": "stdout"
        }
      ]
    },
    {
      "cell_type": "code",
      "metadata": {
        "colab": {
          "base_uri": "https://localhost:8080/"
        },
        "id": "LdNPGRUKeuaY",
        "outputId": "974c4cbb-02e7-4ffd-b241-a4bff1a34ec7"
      },
      "source": [
        "import numpy as np\n",
        "import time\n",
        "\n",
        "a = range(10000)\n",
        "b = range(10000)\n",
        "\n",
        "start = time.time() #marks the start time\n",
        "\n",
        "# list comprehension (mul each ele of a and b)\n",
        "\n",
        "ab = [(a*b) for a,b in zip(a,b)]\n",
        "\n",
        "end = time.time()  #mark the end time\n",
        "print(\"Total time taken:\", end - start)"
      ],
      "execution_count": 6,
      "outputs": [
        {
          "output_type": "stream",
          "text": [
            "Total time taken: 0.002521514892578125\n"
          ],
          "name": "stdout"
        }
      ]
    },
    {
      "cell_type": "code",
      "metadata": {
        "colab": {
          "base_uri": "https://localhost:8080/"
        },
        "id": "GFcp5wU_fgbr",
        "outputId": "dcef2f62-7eeb-4118-aa5b-70844f5bc6b2"
      },
      "source": [
        "import numpy as np\n",
        "\n",
        "arr3 = np.array([[1,2,3],[4,5,6]], ndmin = 2)  #2D np array\n",
        "\n",
        "print(arr3)\n"
      ],
      "execution_count": 7,
      "outputs": [
        {
          "output_type": "stream",
          "text": [
            "[[1 2 3]\n",
            " [4 5 6]]\n"
          ],
          "name": "stdout"
        }
      ]
    },
    {
      "cell_type": "code",
      "metadata": {
        "colab": {
          "base_uri": "https://localhost:8080/"
        },
        "id": "0yUEisL_gK2y",
        "outputId": "7b65e21d-1f21-45b2-bb57-ec4742896e52"
      },
      "source": [
        "arr4 = np.array([[1,2,3],[4,5,6]])\n",
        "\n",
        "print(arr4.dtype)\n",
        "print(arr4.ndim)\n",
        "print(arr4.shape)\n",
        "print(arr4.size)"
      ],
      "execution_count": 10,
      "outputs": [
        {
          "output_type": "stream",
          "text": [
            "int64\n",
            "2\n",
            "(2, 3)\n",
            "6\n"
          ],
          "name": "stdout"
        }
      ]
    },
    {
      "cell_type": "code",
      "metadata": {
        "colab": {
          "base_uri": "https://localhost:8080/"
        },
        "id": "964hX-BqguGI",
        "outputId": "6439e74e-2f65-4cff-d365-48423f8b13eb"
      },
      "source": [
        "#creating 2X2 matrix with 0s\n",
        "\n",
        "zero1 = np.zeros((2,2))\n",
        "print(zero1)"
      ],
      "execution_count": 11,
      "outputs": [
        {
          "output_type": "stream",
          "text": [
            "[[0. 0.]\n",
            " [0. 0.]]\n"
          ],
          "name": "stdout"
        }
      ]
    },
    {
      "cell_type": "code",
      "metadata": {
        "colab": {
          "base_uri": "https://localhost:8080/"
        },
        "id": "-VpP37abhDd0",
        "outputId": "95e9325d-2ea2-41a6-db72-8aebfa6384bb"
      },
      "source": [
        "c = np.arange(3,10,2)\n",
        "\n",
        "print(type(c))"
      ],
      "execution_count": 13,
      "outputs": [
        {
          "output_type": "stream",
          "text": [
            "<class 'numpy.ndarray'>\n"
          ],
          "name": "stdout"
        }
      ]
    },
    {
      "cell_type": "code",
      "metadata": {
        "colab": {
          "base_uri": "https://localhost:8080/"
        },
        "id": "pahU4SvmhEnj",
        "outputId": "8888bf14-f8db-464c-874a-79bb253ed111"
      },
      "source": [
        "a = [1,2,3,4,5]\n",
        "\n",
        "b = np.array(a)\n",
        "print(b)\n"
      ],
      "execution_count": 14,
      "outputs": [
        {
          "output_type": "stream",
          "text": [
            "[1 2 3 4 5]\n"
          ],
          "name": "stdout"
        }
      ]
    },
    {
      "cell_type": "code",
      "metadata": {
        "colab": {
          "base_uri": "https://localhost:8080/"
        },
        "id": "CJ6toDOrhvSA",
        "outputId": "c0f9154a-7260-412d-9be0-b4b5d95ec8d6"
      },
      "source": [
        "#slicing - creating substrings from the main string; dividing the elements in the list\n",
        "# indexing - getting the value from a specific index position or from lower to upper range\n",
        "# range(lower,upper+1)  --> array[lower:upper+1]\n",
        "\n",
        "# negative indexing\n",
        "b[-1]\n",
        "b[-3]\n"
      ],
      "execution_count": 16,
      "outputs": [
        {
          "output_type": "execute_result",
          "data": {
            "text/plain": [
              "3"
            ]
          },
          "metadata": {
            "tags": []
          },
          "execution_count": 16
        }
      ]
    },
    {
      "cell_type": "code",
      "metadata": {
        "colab": {
          "base_uri": "https://localhost:8080/"
        },
        "id": "MzPCKv7EhvVb",
        "outputId": "640fc819-78ae-4895-e131-5395b4f6318c"
      },
      "source": [
        "#print from index 0 to 2\n",
        "\n",
        "b[0:3]"
      ],
      "execution_count": 17,
      "outputs": [
        {
          "output_type": "execute_result",
          "data": {
            "text/plain": [
              "array([1, 2, 3])"
            ]
          },
          "metadata": {
            "tags": []
          },
          "execution_count": 17
        }
      ]
    },
    {
      "cell_type": "code",
      "metadata": {
        "colab": {
          "base_uri": "https://localhost:8080/"
        },
        "id": "Q0BDmSmojjy1",
        "outputId": "30721e4d-2d31-4b09-b164-3c9d436825c7"
      },
      "source": [
        "#updating values\n",
        "\n",
        "b[0] = 10\n",
        "\n",
        "print(b)"
      ],
      "execution_count": 18,
      "outputs": [
        {
          "output_type": "stream",
          "text": [
            "[10  2  3  4  5]\n"
          ],
          "name": "stdout"
        }
      ]
    },
    {
      "cell_type": "code",
      "metadata": {
        "colab": {
          "base_uri": "https://localhost:8080/"
        },
        "id": "VjFEj6Pojw-s",
        "outputId": "e8828c8a-d5af-4ee9-8f38-e9cc6fb82458"
      },
      "source": [
        "#all elements from index 2 \n",
        "\n",
        "print(b[2:])\n",
        "\n",
        "print(b[:3])"
      ],
      "execution_count": 20,
      "outputs": [
        {
          "output_type": "stream",
          "text": [
            "[3 4 5]\n",
            "[10  2  3]\n"
          ],
          "name": "stdout"
        }
      ]
    },
    {
      "cell_type": "code",
      "metadata": {
        "colab": {
          "base_uri": "https://localhost:8080/"
        },
        "id": "0_yzXnRmjxCF",
        "outputId": "3544b1e6-ca94-4fc6-a340-bcdc9446ee23"
      },
      "source": [
        "c = np.array([[1,2,3,4,5],[6,7,8,9,10]])\n",
        "c"
      ],
      "execution_count": 21,
      "outputs": [
        {
          "output_type": "execute_result",
          "data": {
            "text/plain": [
              "array([[ 1,  2,  3,  4,  5],\n",
              "       [ 6,  7,  8,  9, 10]])"
            ]
          },
          "metadata": {
            "tags": []
          },
          "execution_count": 21
        }
      ]
    },
    {
      "cell_type": "code",
      "metadata": {
        "colab": {
          "base_uri": "https://localhost:8080/"
        },
        "id": "TEXdQar4ko1J",
        "outputId": "34b60561-0d75-4529-a919-fe6d785c2ad4"
      },
      "source": [
        "print(c[0][0])"
      ],
      "execution_count": 23,
      "outputs": [
        {
          "output_type": "stream",
          "text": [
            "1\n"
          ],
          "name": "stdout"
        }
      ]
    },
    {
      "cell_type": "code",
      "metadata": {
        "id": "WrbQpCLCksO7"
      },
      "source": [
        ""
      ],
      "execution_count": null,
      "outputs": []
    },
    {
      "cell_type": "markdown",
      "metadata": {
        "id": "jU1AoPE4lG-M"
      },
      "source": [
        "# **Pandas Library implementation**"
      ]
    },
    {
      "cell_type": "code",
      "metadata": {
        "id": "pQH9j7-klEuS"
      },
      "source": [
        "# pandas  - handle data and dataset\n",
        "\n",
        "import pandas as pd\n",
        "dataset = \n",
        "\n",
        "# tail, shape, head, dtype\n",
        "#check info of data --> dataset.info()\n",
        "#description of dataset --> dataset.describe()\n"
      ],
      "execution_count": null,
      "outputs": []
    },
    {
      "cell_type": "code",
      "metadata": {
        "colab": {
          "base_uri": "https://localhost:8080/",
          "height": 202
        },
        "id": "sg4dXMYmlOo5",
        "outputId": "5a881800-0fcb-481d-c713-95efc7fb2eb3"
      },
      "source": [
        "import pandas as pd\n",
        "\n",
        "dataset1 = pd.read_html('https://en.wikipedia.org/wiki/Data_science')[0]\n",
        "dataset1.head()"
      ],
      "execution_count": 27,
      "outputs": [
        {
          "output_type": "execute_result",
          "data": {
            "text/html": [
              "<div>\n",
              "<style scoped>\n",
              "    .dataframe tbody tr th:only-of-type {\n",
              "        vertical-align: middle;\n",
              "    }\n",
              "\n",
              "    .dataframe tbody tr th {\n",
              "        vertical-align: top;\n",
              "    }\n",
              "\n",
              "    .dataframe thead th {\n",
              "        text-align: right;\n",
              "    }\n",
              "</style>\n",
              "<table border=\"1\" class=\"dataframe\">\n",
              "  <thead>\n",
              "    <tr style=\"text-align: right;\">\n",
              "      <th></th>\n",
              "      <th>0</th>\n",
              "    </tr>\n",
              "  </thead>\n",
              "  <tbody>\n",
              "    <tr>\n",
              "      <th>0</th>\n",
              "      <td>Part of a series on</td>\n",
              "    </tr>\n",
              "    <tr>\n",
              "      <th>1</th>\n",
              "      <td>Machine learningand data mining</td>\n",
              "    </tr>\n",
              "    <tr>\n",
              "      <th>2</th>\n",
              "      <td>Problems Classification Clustering Regression ...</td>\n",
              "    </tr>\n",
              "    <tr>\n",
              "      <th>3</th>\n",
              "      <td>Supervised learning.mw-parser-output .nobold{f...</td>\n",
              "    </tr>\n",
              "    <tr>\n",
              "      <th>4</th>\n",
              "      <td>Clustering BIRCH CURE Hierarchical k-means Exp...</td>\n",
              "    </tr>\n",
              "  </tbody>\n",
              "</table>\n",
              "</div>"
            ],
            "text/plain": [
              "                                                   0\n",
              "0                                Part of a series on\n",
              "1                    Machine learningand data mining\n",
              "2  Problems Classification Clustering Regression ...\n",
              "3  Supervised learning.mw-parser-output .nobold{f...\n",
              "4  Clustering BIRCH CURE Hierarchical k-means Exp..."
            ]
          },
          "metadata": {
            "tags": []
          },
          "execution_count": 27
        }
      ]
    },
    {
      "cell_type": "code",
      "metadata": {
        "id": "L_8ijYBDlExt"
      },
      "source": [
        "# dataset.Age\n",
        "# dataset.EstimatedSalary\n",
        "# dataset(['age', 'estsalary', 'purchased'])"
      ],
      "execution_count": null,
      "outputs": []
    }
  ]
}